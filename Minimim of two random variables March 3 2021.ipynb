{
 "cells": [
  {
   "cell_type": "markdown",
   "metadata": {
    "ExecuteTime": {
     "end_time": "2021-03-03T15:06:18.500645Z",
     "start_time": "2021-03-03T15:06:18.455823Z"
    }
   },
   "source": [
    "sergazy.nurbavliyev@gmail.com © 2021"
   ]
  },
  {
   "cell_type": "markdown",
   "metadata": {},
   "source": [
    "## Minimum of two random variables"
   ]
  },
  {
   "cell_type": "markdown",
   "metadata": {},
   "source": [
    "Question: Assume we have $X \\sim Uniform(0, 1)$ and $Y \\sim Uniform(0,1)$ and independent of each other. What is the expected value of the minimum of $X$ and $Y$?\n"
   ]
  },
  {
   "cell_type": "markdown",
   "metadata": {},
   "source": [
    "### Intuition"
   ]
  },
  {
   "cell_type": "markdown",
   "metadata": {},
   "source": [
    "Before going to show the exact theoretical result, we can think heuristically,we have two uniform random variables  that are independent of each other, we would expect two of these random variables to divide the interval (0,1) equally into 3 equal subintervals. Then the minimum would occur at 1/3 and the other one (which is maximum in this case) occurs at 2/3. We can even generalize our intuition for $n$ independent uniform random variables. In that case minimum would occur at $1/(n+1)$ and maximum would occur at $n/(n+1)$. Now let us verify intution theoretically. "
   ]
  },
  {
   "cell_type": "markdown",
   "metadata": {},
   "source": [
    "### Theoritical result"
   ]
  },
  {
   "cell_type": "markdown",
   "metadata": {},
   "source": [
    "Let $Z$  be minimum of X and Y. We write this as $Z=\\min(X,Y)$. \n",
    "\\begin{equation}\n",
    "\\mathbb{P}(Z\\leq z)= \\mathbb{P}(\\min(X,Y)\\leq z) =1-\\mathbb{P}(\\min(X,Y)\\geq z)=1-\\mathbb{P}(X> z, Y>z)\n",
    "\\end{equation}\n",
    "Since our distribution is between 0 and 1 the following is true for uniform distribution\n",
    "\\begin{equation}\n",
    "\\mathbb{P}(X\\leq z)= z \\text{ and } \\mathbb{P}(X> z)=1- z \n",
    "\\end{equation}\n",
    "Also same goes for $Y$. Now since they are independent we have\n",
    "\\begin{equation}\n",
    "\\mathbb{P}(X> z, Y>z)=\\mathbb{P}(X> z)\\mathbb{P}(Y>z)=(1-z)^{2}\n",
    "\\end{equation}\n",
    "Then equation (1) becomes\n",
    "\\begin{equation}\n",
    "\\mathbb{P}(Z\\leq z)=1-\\mathbb{P}(X> z, Y>z)=1-(1-z)^{2}\n",
    "\\end{equation}\n",
    "We just calculated cumulative distribution function of $z$. Usually denoted as \n",
    "\\begin{equation}\n",
    "F_{Z}(z)= \\mathbb{P}(Z\\leq z)\n",
    "\\end{equation}\n",
    "If we take derivative of this $ F_{Z}(z)$, we will get density function of z. In this case it would be\n",
    "\\begin{equation}\n",
    "F_{Z}'(z)=f_Z(z)=2(1-z)\n",
    "\\end{equation}\n",
    "As last part we would take integral of $zf_Z(z)$ between 0 and 1 to find an expected value of minimum of two uniform random variables.\n",
    "\\begin{equation}\n",
    "\\mathbb{E}[Z]=\\int_{0}^1 zf_Z(z)dz=\\int_{0}^1 2z(1-z)dz=2\\left(\\frac{1}{2}-\\frac{1}{3}\\right)=\\frac{1}{3}\n",
    "\\end{equation}"
   ]
  },
  {
   "cell_type": "code",
   "execution_count": 35,
   "metadata": {
    "ExecuteTime": {
     "end_time": "2021-03-03T17:11:24.658749Z",
     "start_time": "2021-03-03T17:11:24.610712Z"
    }
   },
   "outputs": [],
   "source": [
    "# If you are allowed to use any programming language then you can simulate.\n",
    "import numpy as np\n",
    "x = np.random.uniform(0,1,100000)\n",
    "y = np.random.uniform(0,1,100000)\n",
    "z =np.minimum(x,y)\n",
    "u =np.maximum(x,y)"
   ]
  },
  {
   "cell_type": "code",
   "execution_count": 40,
   "metadata": {
    "ExecuteTime": {
     "end_time": "2021-03-03T17:11:55.696036Z",
     "start_time": "2021-03-03T17:11:55.677315Z"
    }
   },
   "outputs": [
    {
     "data": {
      "text/plain": [
       "(0.33389155844548174, 0.6670118602826249)"
      ]
     },
     "execution_count": 40,
     "metadata": {},
     "output_type": "execute_result"
    }
   ],
   "source": [
    "np.mean(z), np.mean(u) # as you can see z is very close to 1/3"
   ]
  },
  {
   "cell_type": "markdown",
   "metadata": {},
   "source": [
    "### To see the histogram of Z and U"
   ]
  },
  {
   "cell_type": "code",
   "execution_count": 37,
   "metadata": {
    "ExecuteTime": {
     "end_time": "2021-03-03T17:11:26.933320Z",
     "start_time": "2021-03-03T17:11:26.140630Z"
    }
   },
   "outputs": [
    {
     "data": {
      "image/png": "[encoded data removed]",
      "text/plain": [
       "<Figure size 432x288 with 1 Axes>"
      ]
     },
     "metadata": {
      "needs_background": "light"
     },
     "output_type": "display_data"
    }
   ],
   "source": [
    "import matplotlib.pyplot as plt\n",
    "count, bins, ignored = plt.hist(z, 100, density=True)\n",
    "plt.plot(bins, np.ones_like(bins), linewidth=2, color='r')\n",
    "plt.show()"
   ]
  },
  {
   "cell_type": "code",
   "execution_count": 38,
   "metadata": {
    "ExecuteTime": {
     "end_time": "2021-03-03T17:11:28.488465Z",
     "start_time": "2021-03-03T17:11:26.943898Z"
    }
   },
   "outputs": [
    {
     "data": {
      "image/png": "[encoded data removed]",
      "text/plain": [
       "<Figure size 432x288 with 1 Axes>"
      ]
     },
     "metadata": {
      "needs_background": "light"
     },
     "output_type": "display_data"
    }
   ],
   "source": [
    "import matplotlib.pyplot as plt\n",
    "count, bins, ignored = plt.hist(u, 100, density=True)\n",
    "plt.plot(bins, np.ones_like(bins), linewidth=2, color='r')\n",
    "plt.show()"
   ]
  },
  {
   "cell_type": "code",
   "execution_count": null,
   "metadata": {},
   "outputs": [],
   "source": []
  },
  {
   "cell_type": "code",
   "execution_count": null,
   "metadata": {},
   "outputs": [],
   "source": []
  }
 ],
 "metadata": {
  "author": "g",
  "hide_input": false,
  "kernelspec": {
   "display_name": "Python 3",
   "language": "python",
   "name": "python3"
  },
  "language_info": {
   "codemirror_mode": {
    "name": "ipython",
    "version": 3
   },
   "file_extension": ".py",
   "mimetype": "text/x-python",
   "name": "python",
   "nbconvert_exporter": "python",
   "pygments_lexer": "ipython3",
   "version": "3.7.5"
  },
  "latex_envs": {
   "LaTeX_envs_menu_present": true,
   "autoclose": false,
   "autocomplete": true,
   "bibliofile": "biblio.bib",
   "cite_by": "apalike",
   "current_citInitial": 1,
   "eqLabelWithNumbers": true,
   "eqNumInitial": 1,
   "hotkeys": {
    "equation": "Ctrl-E",
    "itemize": "Ctrl-I"
   },
   "labels_anchors": false,
   "latex_user_defs": false,
   "report_style_numbering": false,
   "user_envs_cfg": false
  }
 },
 "nbformat": 4,
 "nbformat_minor": 4
}
